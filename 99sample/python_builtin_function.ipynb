{
 "cells": [
  {
   "cell_type": "markdown",
   "metadata": {},
   "source": [
    "# python 파이썬 정리"
   ]
  },
  {
   "cell_type": "markdown",
   "metadata": {},
   "source": [
    "## 파이썬 내장 함수\n",
    "## python built in functions\n",
    "\n",
    "\n",
    "# "
   ]
  },
  {
   "cell_type": "markdown",
   "metadata": {},
   "source": [
    "### abs(n) = 절대값을 반환하는 함수\n",
    "\n",
    "*n = Required. An integer(숫자)"
   ]
  },
  {
   "cell_type": "code",
   "execution_count": 1,
   "metadata": {},
   "outputs": [
    {
     "name": "stdout",
     "output_type": "stream",
     "text": [
      "1\n",
      "1\n",
      "0.51\n"
     ]
    }
   ],
   "source": [
    "print(abs(-1))\n",
    "print(abs(1))\n",
    "print(abs(-0.51))"
   ]
  },
  {
   "cell_type": "markdown",
   "metadata": {},
   "source": [
    "### all(iterable) = 반복 가능한 자료형의 모든 요소가 참이면 참을 반환하는 함수\n",
    "\n",
    "*iterable  = 반복 가능한 자료형"
   ]
  },
  {
   "cell_type": "code",
   "execution_count": 2,
   "metadata": {},
   "outputs": [
    {
     "name": "stdout",
     "output_type": "stream",
     "text": [
      "True\n",
      "False\n"
     ]
    }
   ],
   "source": [
    "print(all([1,2,3,4]))\n",
    "print(all([1,2,3,0]))"
   ]
  },
  {
   "cell_type": "markdown",
   "metadata": {},
   "source": [
    "### any(iterable) = 반복 가능한 자료형의 모든 요소 중 하나라도 참이면 참을 반환하는 함수\n",
    "\n",
    "*iterable  = 반복 가능한 자료형"
   ]
  },
  {
   "cell_type": "code",
   "execution_count": 3,
   "metadata": {},
   "outputs": [
    {
     "name": "stdout",
     "output_type": "stream",
     "text": [
      "True\n",
      "True\n"
     ]
    }
   ],
   "source": [
    "print(any([0,1,2,3]))\n",
    "print(any([1,2,3,4]))"
   ]
  },
  {
   "cell_type": "markdown",
   "metadata": {},
   "source": [
    "### ascii(object) = 문자열로 인쇄 가능한 특수문자를 반환\n",
    "\n",
    "*object = An object, like String, List, Tuple, Dictionary etc. (객체, 문자열, 리스트, 튜플, 딕션너리 등등)"
   ]
  },
  {
   "cell_type": "code",
   "execution_count": 4,
   "metadata": {},
   "outputs": [
    {
     "name": "stdout",
     "output_type": "stream",
     "text": [
      "'a\\nbcdefg'\n"
     ]
    }
   ],
   "source": [
    "print(ascii('a\\nbcdefg'))"
   ]
  },
  {
   "cell_type": "markdown",
   "metadata": {},
   "source": [
    "### bin(n) = 정수형태의 숫자를 2진법으로 변환하여 반환하는 함수\n",
    "\n",
    "*n = Required. An integer(숫자)"
   ]
  },
  {
   "cell_type": "code",
   "execution_count": 5,
   "metadata": {},
   "outputs": [
    {
     "name": "stdout",
     "output_type": "stream",
     "text": [
      "0b100\n"
     ]
    }
   ],
   "source": [
    "print(bin(4))"
   ]
  },
  {
   "cell_type": "markdown",
   "metadata": {},
   "source": [
    "### bool(object) = 전달한 조건 혹은 숫자의 boolean값을 반환하는 함수\n",
    "\n",
    "*object = Any object, like String, List, Number etc. (객체, 문자열, 리스트, 숫자)"
   ]
  },
  {
   "cell_type": "code",
   "execution_count": 6,
   "metadata": {},
   "outputs": [
    {
     "name": "stdout",
     "output_type": "stream",
     "text": [
      "False\n",
      "True\n",
      "False\n",
      "True\n"
     ]
    }
   ],
   "source": [
    "print(bool(1>2))\n",
    "print(bool(1<2))\n",
    "print(bool(0))\n",
    "print(bool(1))"
   ]
  },
  {
   "cell_type": "markdown",
   "metadata": {},
   "source": [
    "### breakpoint() =디버깅할때 중단점을 정해주는 함수\n",
    "\n",
    "breakpoint() 뒤 코드로 넘어가지 않고 멈춰있다."
   ]
  },
  {
   "cell_type": "code",
   "execution_count": 10,
   "metadata": {},
   "outputs": [
    {
     "name": "stdout",
     "output_type": "stream",
     "text": [
      "--Return--\n",
      "None\n",
      "> \u001b[1;32m<ipython-input-10-36bab595112d>\u001b[0m(1)\u001b[0;36m<module>\u001b[1;34m()\u001b[0m\n",
      "\u001b[1;32m----> 1 \u001b[1;33m\u001b[0mbreakpoint\u001b[0m\u001b[1;33m(\u001b[0m\u001b[1;33m)\u001b[0m\u001b[1;33m\u001b[0m\u001b[1;33m\u001b[0m\u001b[0m\n",
      "\u001b[0m\u001b[1;32m      2 \u001b[1;33m\u001b[0ma\u001b[0m \u001b[1;33m=\u001b[0m \u001b[1;36m1\u001b[0m\u001b[1;33m\u001b[0m\u001b[1;33m\u001b[0m\u001b[0m\n",
      "\u001b[0m\u001b[1;32m      3 \u001b[1;33m\u001b[0mprint\u001b[0m\u001b[1;33m(\u001b[0m\u001b[0ma\u001b[0m \u001b[1;33m+\u001b[0m \u001b[1;36m1\u001b[0m\u001b[1;33m)\u001b[0m\u001b[1;33m\u001b[0m\u001b[1;33m\u001b[0m\u001b[0m\n",
      "\u001b[0m\n",
      "ipdb> 123\n",
      "123\n",
      "ipdb> quit\n"
     ]
    },
    {
     "ename": "BdbQuit",
     "evalue": "",
     "output_type": "error",
     "traceback": [
      "\u001b[1;31m---------------------------------------------------------------------------\u001b[0m",
      "\u001b[1;31mBdbQuit\u001b[0m                                   Traceback (most recent call last)",
      "\u001b[1;32m<ipython-input-10-36bab595112d>\u001b[0m in \u001b[0;36m<module>\u001b[1;34m\u001b[0m\n\u001b[1;32m----> 1\u001b[1;33m \u001b[0mbreakpoint\u001b[0m\u001b[1;33m(\u001b[0m\u001b[1;33m)\u001b[0m\u001b[1;33m\u001b[0m\u001b[1;33m\u001b[0m\u001b[0m\n\u001b[0m\u001b[0;32m      2\u001b[0m \u001b[0ma\u001b[0m \u001b[1;33m=\u001b[0m \u001b[1;36m1\u001b[0m\u001b[1;33m\u001b[0m\u001b[1;33m\u001b[0m\u001b[0m\n\u001b[0;32m      3\u001b[0m \u001b[0mprint\u001b[0m\u001b[1;33m(\u001b[0m\u001b[0ma\u001b[0m \u001b[1;33m+\u001b[0m \u001b[1;36m1\u001b[0m\u001b[1;33m)\u001b[0m\u001b[1;33m\u001b[0m\u001b[1;33m\u001b[0m\u001b[0m\n",
      "\u001b[1;32m~\\anaconda3\\lib\\bdb.py\u001b[0m in \u001b[0;36mtrace_dispatch\u001b[1;34m(self, frame, event, arg)\u001b[0m\n\u001b[0;32m     90\u001b[0m             \u001b[1;32mreturn\u001b[0m \u001b[0mself\u001b[0m\u001b[1;33m.\u001b[0m\u001b[0mdispatch_call\u001b[0m\u001b[1;33m(\u001b[0m\u001b[0mframe\u001b[0m\u001b[1;33m,\u001b[0m \u001b[0marg\u001b[0m\u001b[1;33m)\u001b[0m\u001b[1;33m\u001b[0m\u001b[1;33m\u001b[0m\u001b[0m\n\u001b[0;32m     91\u001b[0m         \u001b[1;32mif\u001b[0m \u001b[0mevent\u001b[0m \u001b[1;33m==\u001b[0m \u001b[1;34m'return'\u001b[0m\u001b[1;33m:\u001b[0m\u001b[1;33m\u001b[0m\u001b[1;33m\u001b[0m\u001b[0m\n\u001b[1;32m---> 92\u001b[1;33m             \u001b[1;32mreturn\u001b[0m \u001b[0mself\u001b[0m\u001b[1;33m.\u001b[0m\u001b[0mdispatch_return\u001b[0m\u001b[1;33m(\u001b[0m\u001b[0mframe\u001b[0m\u001b[1;33m,\u001b[0m \u001b[0marg\u001b[0m\u001b[1;33m)\u001b[0m\u001b[1;33m\u001b[0m\u001b[1;33m\u001b[0m\u001b[0m\n\u001b[0m\u001b[0;32m     93\u001b[0m         \u001b[1;32mif\u001b[0m \u001b[0mevent\u001b[0m \u001b[1;33m==\u001b[0m \u001b[1;34m'exception'\u001b[0m\u001b[1;33m:\u001b[0m\u001b[1;33m\u001b[0m\u001b[1;33m\u001b[0m\u001b[0m\n\u001b[0;32m     94\u001b[0m             \u001b[1;32mreturn\u001b[0m \u001b[0mself\u001b[0m\u001b[1;33m.\u001b[0m\u001b[0mdispatch_exception\u001b[0m\u001b[1;33m(\u001b[0m\u001b[0mframe\u001b[0m\u001b[1;33m,\u001b[0m \u001b[0marg\u001b[0m\u001b[1;33m)\u001b[0m\u001b[1;33m\u001b[0m\u001b[1;33m\u001b[0m\u001b[0m\n",
      "\u001b[1;32m~\\anaconda3\\lib\\bdb.py\u001b[0m in \u001b[0;36mdispatch_return\u001b[1;34m(self, frame, arg)\u001b[0m\n\u001b[0;32m    152\u001b[0m             \u001b[1;32mfinally\u001b[0m\u001b[1;33m:\u001b[0m\u001b[1;33m\u001b[0m\u001b[1;33m\u001b[0m\u001b[0m\n\u001b[0;32m    153\u001b[0m                 \u001b[0mself\u001b[0m\u001b[1;33m.\u001b[0m\u001b[0mframe_returning\u001b[0m \u001b[1;33m=\u001b[0m \u001b[1;32mNone\u001b[0m\u001b[1;33m\u001b[0m\u001b[1;33m\u001b[0m\u001b[0m\n\u001b[1;32m--> 154\u001b[1;33m             \u001b[1;32mif\u001b[0m \u001b[0mself\u001b[0m\u001b[1;33m.\u001b[0m\u001b[0mquitting\u001b[0m\u001b[1;33m:\u001b[0m \u001b[1;32mraise\u001b[0m \u001b[0mBdbQuit\u001b[0m\u001b[1;33m\u001b[0m\u001b[1;33m\u001b[0m\u001b[0m\n\u001b[0m\u001b[0;32m    155\u001b[0m             \u001b[1;31m# The user issued a 'next' or 'until' command.\u001b[0m\u001b[1;33m\u001b[0m\u001b[1;33m\u001b[0m\u001b[1;33m\u001b[0m\u001b[0m\n\u001b[0;32m    156\u001b[0m             \u001b[1;32mif\u001b[0m \u001b[0mself\u001b[0m\u001b[1;33m.\u001b[0m\u001b[0mstopframe\u001b[0m \u001b[1;32mis\u001b[0m \u001b[0mframe\u001b[0m \u001b[1;32mand\u001b[0m \u001b[0mself\u001b[0m\u001b[1;33m.\u001b[0m\u001b[0mstoplineno\u001b[0m \u001b[1;33m!=\u001b[0m \u001b[1;33m-\u001b[0m\u001b[1;36m1\u001b[0m\u001b[1;33m:\u001b[0m\u001b[1;33m\u001b[0m\u001b[1;33m\u001b[0m\u001b[0m\n",
      "\u001b[1;31mBdbQuit\u001b[0m: "
     ]
    }
   ],
   "source": [
    "# breakpoint()"
   ]
  },
  {
   "cell_type": "markdown",
   "metadata": {},
   "source": [
    "### bytearray(x, encoding, error) = 1바이트 단위의 값을 연속적으로 저장하는 시퀀스 자료형 객체를 만드는 함수(값의 변경 가능)\n",
    "\n",
    "bytearry() : 빈 바이트 배열 객체를 생성\n",
    "\n",
    "bytearry(길이) : 길이만큼 0으로 채워진 바이트 배열 객체 생성 \n",
    "\n",
    "bytearry(반복 가능한 객체) : 반복 가능한 객체로 바이트 배열 객체를 생성\n",
    "\n",
    "bytearry(바이트 객체) : 바이트 객체로 바이트 배열 객체를 생성\n",
    "\n",
    "*x = A source to use when creating the bytearray object. (바이트배열을 만들 때 사용할 자원)\n",
    "If it is an integer, an empty bytearray object of the specified size will be created.(만약 정수형이면 특정사이즈가 지정된 빈 바이트배열 객체가 생성됨.)\n",
    "If it is a String, make sure you specify the encoding of the source.(만약 문자열이면 소스의 인코딩을 확실히 지정해야 한다.)\n",
    "\n",
    "*encoding = The encoding of the string(문자열의 인코딩)\n",
    "\n",
    "*error = Specifies what to do if the encoding fails.(인코딩 실패에 대한 특정)"
   ]
  },
  {
   "cell_type": "code",
   "execution_count": 11,
   "metadata": {},
   "outputs": [
    {
     "name": "stdout",
     "output_type": "stream",
     "text": [
      "bytearray(b'hello')\n"
     ]
    }
   ],
   "source": [
    "x = bytearray(b'hello')\n",
    "print(x)"
   ]
  },
  {
   "cell_type": "markdown",
   "metadata": {},
   "source": [
    "### bytes(x, encoding, error) = 1바이트 단위의 값을 연속적으로 저장하는 시퀀스 자료형 객체를 만드는 함수(값의 변경 불가능)\n",
    "\n",
    "bytes(길이) : 길이만큼 0으로 채워진 바이트 객체를 생성\n",
    "\n",
    "bytes(반복 가능한 객체) : 반복 가능한 객체로 바이트 객체를 생성\n",
    "\n",
    "bytes(바이트객체) : 바이트 객체로 바이트 객체를 생성\n",
    "\n",
    "*x = A source to use when creating the bytearray object. (바이트배열을 만들 때 사용할 자원)\n",
    "If it is an integer, an empty bytearray object of the specified size will be created.(만약 정수형이면 특정사이즈가 지정된 빈 바이트배열 객체가 생성됨.)\n",
    "If it is a String, make sure you specify the encoding of the source.(만약 문자열이면 소스의 인코딩을 확실히 지정해야 한다.)\n",
    "\n",
    "*encoding = The encoding of the string(문자열의 인코딩)\n",
    "\n",
    "*error = Specifies what to do if the encoding fails.(인코딩 실패에 대한 특정)"
   ]
  },
  {
   "cell_type": "code",
   "execution_count": 33,
   "metadata": {},
   "outputs": [
    {
     "data": {
      "text/plain": [
       "b'hello'"
      ]
     },
     "execution_count": 33,
     "metadata": {},
     "output_type": "execute_result"
    }
   ],
   "source": [
    "bytes(10)\n",
    "bytes([1,2,3,4,5])\n",
    "bytes(b'hello')"
   ]
  },
  {
   "cell_type": "markdown",
   "metadata": {},
   "source": [
    "### callable(object) = 전달인자가 호출 가능한지 여부를 판단하는 함수 호출 가능하면 True를 아니면 False를 반환한다.\n",
    "\n",
    "*object = The object you want to test if it is callable or not(호출 가능한지 아닌지 테스트하기 원하는 객체)"
   ]
  },
  {
   "cell_type": "code",
   "execution_count": 12,
   "metadata": {},
   "outputs": [
    {
     "data": {
      "text/plain": [
       "True"
      ]
     },
     "execution_count": 12,
     "metadata": {},
     "output_type": "execute_result"
    }
   ],
   "source": [
    "a = 1\n",
    "callable(a)\n",
    "\n",
    "def simple_function():\n",
    "    print('a')\n",
    "\n",
    "b = simple_function\n",
    "callable(b)"
   ]
  },
  {
   "cell_type": "markdown",
   "metadata": {},
   "source": [
    "### chr(number) = 아스키 코드 값을 문자로 변환해 주는 함수\n",
    "\n",
    "*number = An integer representing a valid Unicode code point (유효한 유니코드로 표현한 정수)"
   ]
  },
  {
   "cell_type": "code",
   "execution_count": 13,
   "metadata": {},
   "outputs": [
    {
     "name": "stdout",
     "output_type": "stream",
     "text": [
      "a\n"
     ]
    }
   ],
   "source": [
    "print(chr(97))"
   ]
  },
  {
   "cell_type": "markdown",
   "metadata": {},
   "source": [
    "### compile(string ,filename, mode) = 문자열을 컴파일하여 파이썬 코드로 반환하는 함수\n",
    "\n",
    "*문자열 = 코드문자열\n",
    "\n",
    "*파일이름 = 코드 문자열이 파일이 아니라면 '\\<string\\>'을 입력\n",
    "\n",
    "*모드 = single -> 하나의 문장을 컴파일\n",
    "        , exec -> 여러 개의 문장을 컴파일\n",
    "        , eval -> 하나의 식을 컴파일\n"
   ]
  },
  {
   "cell_type": "code",
   "execution_count": 14,
   "metadata": {},
   "outputs": [
    {
     "name": "stdout",
     "output_type": "stream",
     "text": [
      "55\n"
     ]
    }
   ],
   "source": [
    "x = compile('print(55)', '<string>', 'eval')\n",
    "exec(x)"
   ]
  },
  {
   "cell_type": "markdown",
   "metadata": {},
   "source": [
    "### complex(real, imaginary) = 복소수를 반환하거나 문자열 혹은 숫자를 복소수로 변환한다.\n",
    "\n",
    "*real = 실제의 수\n",
    "\n",
    "*imaginary = 허수"
   ]
  },
  {
   "cell_type": "code",
   "execution_count": 15,
   "metadata": {},
   "outputs": [
    {
     "data": {
      "text/plain": [
       "(1+1j)"
      ]
     },
     "execution_count": 15,
     "metadata": {},
     "output_type": "execute_result"
    }
   ],
   "source": [
    "#real, imag 값을 정수/실수로 전달하는 경우\n",
    "complex(1,1)\n",
    "complex(1.1,2.2)\n",
    "\n",
    "#imag값이 생략되는 경우\n",
    "complex(1)\n",
    "\n",
    "#두 인자 모두 생략되는 경우\n",
    "complex()\n",
    "\n",
    "#첫 번째 인자를 문자열로 전달하는 경우\n",
    "complex(\"1+1j\")"
   ]
  },
  {
   "cell_type": "markdown",
   "metadata": {},
   "source": [
    "### delattr(object, attribute) = 객체의 속성을 제거하는 함수\n",
    "\n",
    "*object = Required. An object.(객체)\n",
    "\n",
    "*attribute = Required. The name of the attribute you want to remove(지우고픈 속성)"
   ]
  },
  {
   "cell_type": "code",
   "execution_count": 18,
   "metadata": {},
   "outputs": [
    {
     "ename": "AttributeError",
     "evalue": "type object 'Person' has no attribute 'age'",
     "output_type": "error",
     "traceback": [
      "\u001b[1;31m---------------------------------------------------------------------------\u001b[0m",
      "\u001b[1;31mAttributeError\u001b[0m                            Traceback (most recent call last)",
      "\u001b[1;32m<ipython-input-18-0d34bd235df3>\u001b[0m in \u001b[0;36m<module>\u001b[1;34m\u001b[0m\n\u001b[0;32m      6\u001b[0m \u001b[0mdelattr\u001b[0m\u001b[1;33m(\u001b[0m\u001b[0mPerson\u001b[0m\u001b[1;33m,\u001b[0m \u001b[1;34m'age'\u001b[0m\u001b[1;33m)\u001b[0m\u001b[1;33m\u001b[0m\u001b[1;33m\u001b[0m\u001b[0m\n\u001b[0;32m      7\u001b[0m \u001b[1;33m\u001b[0m\u001b[0m\n\u001b[1;32m----> 8\u001b[1;33m \u001b[0mprint\u001b[0m\u001b[1;33m(\u001b[0m\u001b[0mPerson\u001b[0m\u001b[1;33m.\u001b[0m\u001b[0mage\u001b[0m\u001b[1;33m)\u001b[0m\u001b[1;33m\u001b[0m\u001b[1;33m\u001b[0m\u001b[0m\n\u001b[0m",
      "\u001b[1;31mAttributeError\u001b[0m: type object 'Person' has no attribute 'age'"
     ]
    }
   ],
   "source": [
    "class Person:\n",
    "  name = \"John\"\n",
    "  age = 36\n",
    "  country = \"Norway\"\n",
    "\n",
    "delattr(Person, 'age')\n",
    "\n",
    "print(Person.age) # 없다고 오류남"
   ]
  },
  {
   "cell_type": "markdown",
   "metadata": {},
   "source": [
    "### dict(keyword arguments) = 디션어리로 반환하는 함수\n",
    "\n",
    "*keyword arguments = Required. As many keyword arguments you like, separated by comma: key = value, key = value ...(키 = 값)"
   ]
  },
  {
   "cell_type": "code",
   "execution_count": 20,
   "metadata": {},
   "outputs": [
    {
     "name": "stdout",
     "output_type": "stream",
     "text": [
      "{'name': 'John', 'age': 36, 'country': 'Norway'}\n"
     ]
    }
   ],
   "source": [
    "x = dict(name = \"John\", age = 36, country = \"Norway\")\n",
    "print(x)"
   ]
  },
  {
   "cell_type": "markdown",
   "metadata": {},
   "source": [
    "### dir(object) = 객체의 속한 특성과 메소드를 반환하는 함수\n",
    "\n",
    "*object = The object you want to see the valid attributes of(너가 보고 싶은 유효한 속성을 가진 객체)"
   ]
  },
  {
   "cell_type": "code",
   "execution_count": 21,
   "metadata": {},
   "outputs": [
    {
     "name": "stdout",
     "output_type": "stream",
     "text": [
      "['__class__', '__delattr__', '__dict__', '__dir__', '__doc__', '__eq__', '__format__', '__ge__', '__getattribute__', '__gt__', '__hash__', '__init__', '__init_subclass__', '__le__', '__lt__', '__module__', '__ne__', '__new__', '__reduce__', '__reduce_ex__', '__repr__', '__setattr__', '__sizeof__', '__str__', '__subclasshook__', '__weakref__', 'age', 'country', 'name']\n"
     ]
    }
   ],
   "source": [
    "class Person:\n",
    "  name = \"John\"\n",
    "  age = 36\n",
    "  country = \"Norway\"\n",
    "\n",
    "print(dir(Person))"
   ]
  },
  {
   "cell_type": "markdown",
   "metadata": {},
   "source": [
    "### divmod(dividend, divisor) = 첫 번째 인자를 두 번째 인자로 나눈 몫과 나머지를 반환하는 함수\n",
    "\n",
    "*dividend = A Number. The number you want to divide (나눔 당할 값 (분자))\n",
    "\n",
    "*divisor = A Number. The number you want to divide with(나눌 값(분모))"
   ]
  },
  {
   "cell_type": "code",
   "execution_count": 22,
   "metadata": {},
   "outputs": [
    {
     "name": "stdout",
     "output_type": "stream",
     "text": [
      "(2, 1)\n"
     ]
    }
   ],
   "source": [
    "x = divmod(5, 2)\n",
    "print(x)"
   ]
  },
  {
   "cell_type": "markdown",
   "metadata": {},
   "source": [
    "### enumerate(iterable, start) = 시퀀스 자료형 객체를 가져와 열거형 객체로 반환하는 함수\n",
    "\n",
    "*iterable = An iterable object(반복 가능한 객체)\n",
    "\n",
    "*start = A Number. Defining the start number of the enumerate object. Default 0(열거형 객체의 시작 번호, 기본값0)"
   ]
  },
  {
   "cell_type": "code",
   "execution_count": 26,
   "metadata": {},
   "outputs": [
    {
     "name": "stdout",
     "output_type": "stream",
     "text": [
      "<class 'enumerate'>\n"
     ]
    }
   ],
   "source": [
    "x = ('apple', 'banana', 'cherry')\n",
    "y = enumerate(x)\n",
    "print(type(y))"
   ]
  },
  {
   "cell_type": "markdown",
   "metadata": {},
   "source": [
    "###  eval(expression, globals, locals) = 표현된 식을 평가하는 함수\n",
    "\n",
    "*expression = A String, that will be evaluated as Python code (문자열, 평가될 문자)\n",
    "\n",
    "*globals = Optional. A dictionary containing global parameters(전역 매개변수를 포함한 딕션너리)\n",
    "\n",
    "*locals = Optional. A dictionary containing local parameters(지역 매개변수를 포함한 딕션너리)"
   ]
  },
  {
   "cell_type": "code",
   "execution_count": 27,
   "metadata": {},
   "outputs": [
    {
     "name": "stdout",
     "output_type": "stream",
     "text": [
      "55\n"
     ]
    }
   ],
   "source": [
    "x = 'print(55)'\n",
    "eval(x)"
   ]
  },
  {
   "cell_type": "markdown",
   "metadata": {},
   "source": [
    "### exec(object, globals, locals) = 특정 코드 또는 객체를 실행하는 함수\n",
    "\n",
    "*expression = A String, that will be evaluated as Python code (문자열, 평가될 문자)\n",
    "\n",
    "*globals = Optional. A dictionary containing global parameters(전역 매개변수를 포함한 딕션너리)\n",
    "\n",
    "*locals = Optional. A dictionary containing local parameters(지역 매개변수를 포함한 딕션너리)"
   ]
  },
  {
   "cell_type": "code",
   "execution_count": 28,
   "metadata": {},
   "outputs": [
    {
     "name": "stdout",
     "output_type": "stream",
     "text": [
      "John\n"
     ]
    }
   ],
   "source": [
    "x = 'name = \"John\"\\nprint(name)'\n",
    "exec(x)"
   ]
  },
  {
   "cell_type": "markdown",
   "metadata": {},
   "source": [
    "### filter(function, iterable) = 반복 가능한 객체에서 특정 조건에 맞게 필터링해주는 함수\n",
    "\n",
    "*function =  A Function to be run for each item in the iterable(각각 반복가능한 함수)\n",
    "\n",
    "*iterable = The iterable to be filtered(한 번에 하나의 멤버를 반환할 수 있는 걸러줄 객체(iterable))"
   ]
  },
  {
   "cell_type": "code",
   "execution_count": 29,
   "metadata": {},
   "outputs": [
    {
     "name": "stdout",
     "output_type": "stream",
     "text": [
      "18\n",
      "24\n",
      "32\n"
     ]
    }
   ],
   "source": [
    "ages = [5, 12, 17, 18, 24, 32]\n",
    "\n",
    "def myFunc(x):\n",
    "  if x < 18:\n",
    "    return False\n",
    "  else:\n",
    "    return True\n",
    "\n",
    "adults = filter(myFunc, ages)\n",
    "\n",
    "for x in adults:\n",
    "  print(x)"
   ]
  },
  {
   "cell_type": "markdown",
   "metadata": {},
   "source": [
    "### float(value) = 소수점으로 변환하는 함수\n",
    "\n",
    "*value = \tA number or a string that can be converted into a floating point number(소수점으로 변환 가능한 숫자 또는 문자열)"
   ]
  },
  {
   "cell_type": "code",
   "execution_count": 30,
   "metadata": {},
   "outputs": [
    {
     "name": "stdout",
     "output_type": "stream",
     "text": [
      "3.0\n"
     ]
    }
   ],
   "source": [
    "x = float(3)\n",
    "print(x)"
   ]
  },
  {
   "cell_type": "markdown",
   "metadata": {},
   "source": [
    "### format(value, format) = 지정된 포맷으로 값을 바꾸는 함수\n",
    "\n",
    "*value = A value of any format(아무 포맷의 값)\n",
    "\n",
    "*format = The format you want to format the value into. (형식)\n",
    "\n",
    "종류\n",
    "\n",
    "'<' - Left aligns the result (within the available space)\n",
    "\n",
    "'>' - Right aligns the result (within the available space)\n",
    "\n",
    "'^' - Center aligns the result (within the available space)\n",
    "\n",
    "'=' - Places the sign to the left most position\n",
    "\n",
    "'+' - Use a plus sign to indicate if the result is positive or negative\n",
    "\n",
    "'-' - Use a minus sign for negative values only\n",
    "\n",
    "' ' - Use a leading space for positive numbers\n",
    "\n",
    "',' - Use a comma as a thousand separator\n",
    "\n",
    "'_' - Use a underscore as a thousand separator\n",
    "\n",
    "'b' - Binary format\n",
    "\n",
    "'c' - Converts the value into the corresponding unicode character\n",
    "\n",
    "'d' - Decimal format\n",
    "\n",
    "'e' - Scientific format, with a lower case e\n",
    "\n",
    "'E' - Scientific format, with an upper case E\n",
    "\n",
    "'f' - Fix point number format\n",
    "\n",
    "'F' - Fix point number format, upper case\n",
    "\n",
    "'g' - General format\n",
    "\n",
    "'G' - General format (using a upper case E for scientific notations)\n",
    "\n",
    "'o' - Octal format\n",
    "\n",
    "'x' - Hex format, lower case\n",
    "\n",
    "'X' - Hex format, upper case\n",
    "\n",
    "'n' - Number format\n",
    "\n",
    "'%' - Percentage format"
   ]
  },
  {
   "cell_type": "code",
   "execution_count": 32,
   "metadata": {},
   "outputs": [
    {
     "name": "stdout",
     "output_type": "stream",
     "text": [
      "50.000000%\n"
     ]
    }
   ],
   "source": [
    "x = format(0.5, '%')\n",
    "print(x)"
   ]
  },
  {
   "cell_type": "markdown",
   "metadata": {},
   "source": [
    "### frozenset(iterable) = 변하지 않는 프로즌 객체를 반환하는 함수\n",
    "\n",
    "*iterable = An iterable object, like list, set, tuple etc.(리스트, 세트. 튜플 등등)"
   ]
  },
  {
   "cell_type": "code",
   "execution_count": 3,
   "metadata": {},
   "outputs": [
    {
     "name": "stdout",
     "output_type": "stream",
     "text": [
      "frozenset({'apple', 'cherry', 'banana'})\n"
     ]
    }
   ],
   "source": [
    "mylist = ['apple', 'banana', 'cherry']\n",
    "x = frozenset(mylist)\n",
    "print(x)"
   ]
  },
  {
   "cell_type": "markdown",
   "metadata": {},
   "source": [
    "### getattr(object, attribute, default) = 특정 객체의 특정 속성의 값을 반환하는 함수\n",
    "\n",
    "*object = Required. An object.(객체)\n",
    "\n",
    "*attribute = The name of the attribute you want to get the value from(얻을 속성의 이름)\n",
    "\n",
    "*default = Optional. The value to return if the attribute does not exist(속성이 존재하지 않으면 반환하는 값)"
   ]
  },
  {
   "cell_type": "code",
   "execution_count": 4,
   "metadata": {},
   "outputs": [
    {
     "name": "stdout",
     "output_type": "stream",
     "text": [
      "36\n"
     ]
    }
   ],
   "source": [
    "class Person:\n",
    "  name = \"John\"\n",
    "  age = 36\n",
    "  country = \"Norway\"\n",
    "\n",
    "x = getattr(Person, 'age')\n",
    "print(x)"
   ]
  },
  {
   "cell_type": "markdown",
   "metadata": {},
   "source": [
    "### globals() = 딕셔너리에 글로벌 상징하는 테이블을 반환하는 함수"
   ]
  },
  {
   "cell_type": "code",
   "execution_count": 5,
   "metadata": {},
   "outputs": [
    {
     "name": "stdout",
     "output_type": "stream",
     "text": [
      "{'__name__': '__main__', '__doc__': 'Automatically created module for IPython interactive environment', '__package__': None, '__loader__': None, '__spec__': None, '__builtin__': <module 'builtins' (built-in)>, '__builtins__': <module 'builtins' (built-in)>, '_ih': ['', \"mylist = ['apple', 'banana', 'cherry']\\nx = frozenset(mylist)\\nprint(x)\", \"mylist = ['apple', 'banana', 'cherry']\\nx = frozenset(mylist)\", \"mylist = ['apple', 'banana', 'cherry']\\nx = frozenset(mylist)\\nprint(x)\", 'class Person:\\n  name = \"John\"\\n  age = 36\\n  country = \"Norway\"\\n\\nx = getattr(Person, \\'age\\')\\nprint(x)', 'x = globals()\\nprint(x)'], '_oh': {}, '_dh': ['C:\\\\Users\\\\sungh\\\\Desktop\\\\portpolio\\\\batem'], 'In': ['', \"mylist = ['apple', 'banana', 'cherry']\\nx = frozenset(mylist)\\nprint(x)\", \"mylist = ['apple', 'banana', 'cherry']\\nx = frozenset(mylist)\", \"mylist = ['apple', 'banana', 'cherry']\\nx = frozenset(mylist)\\nprint(x)\", 'class Person:\\n  name = \"John\"\\n  age = 36\\n  country = \"Norway\"\\n\\nx = getattr(Person, \\'age\\')\\nprint(x)', 'x = globals()\\nprint(x)'], 'Out': {}, 'get_ipython': <bound method InteractiveShell.get_ipython of <ipykernel.zmqshell.ZMQInteractiveShell object at 0x0000022DB8531CA0>>, 'exit': <IPython.core.autocall.ZMQExitAutocall object at 0x0000022DB85C2610>, 'quit': <IPython.core.autocall.ZMQExitAutocall object at 0x0000022DB85C2610>, '_': '', '__': '', '___': '', '_i': 'class Person:\\n  name = \"John\"\\n  age = 36\\n  country = \"Norway\"\\n\\nx = getattr(Person, \\'age\\')\\nprint(x)', '_ii': \"mylist = ['apple', 'banana', 'cherry']\\nx = frozenset(mylist)\\nprint(x)\", '_iii': \"mylist = ['apple', 'banana', 'cherry']\\nx = frozenset(mylist)\", '_i1': \"mylist = ['apple', 'banana', 'cherry']\\nx = frozenset(mylist)\\nprint(x)\", 'mylist': ['apple', 'banana', 'cherry'], 'x': {...}, '_i2': \"mylist = ['apple', 'banana', 'cherry']\\nx = frozenset(mylist)\", '_i3': \"mylist = ['apple', 'banana', 'cherry']\\nx = frozenset(mylist)\\nprint(x)\", '_i4': 'class Person:\\n  name = \"John\"\\n  age = 36\\n  country = \"Norway\"\\n\\nx = getattr(Person, \\'age\\')\\nprint(x)', 'Person': <class '__main__.Person'>, '_i5': 'x = globals()\\nprint(x)'}\n"
     ]
    }
   ],
   "source": [
    "x = globals()\n",
    "print(x)"
   ]
  },
  {
   "cell_type": "markdown",
   "metadata": {},
   "source": [
    "### hasattr(object, attribute) = 특정 객체가 특정 속성르 가지고 있으면 True를 반환, 아니면 False를 반환하는 함수\n",
    "\n",
    "*object = Required. An object.(객체)\n",
    "\n",
    "*attribute = The name of the attribute you want to check if exists(체크하고 싶은 속성)"
   ]
  },
  {
   "cell_type": "code",
   "execution_count": 6,
   "metadata": {},
   "outputs": [
    {
     "name": "stdout",
     "output_type": "stream",
     "text": [
      "True\n"
     ]
    }
   ],
   "source": [
    "class Person:\n",
    "  name = \"John\"\n",
    "  age = 36\n",
    "  country = \"Norway\"\n",
    "\n",
    "x = hasattr(Person, 'age')\n",
    "print(x)"
   ]
  },
  {
   "cell_type": "markdown",
   "metadata": {},
   "source": [
    "### hash(object) = 객체의 해쉬값을 반환하는 함수\n",
    "\n",
    "*object = 객체"
   ]
  },
  {
   "cell_type": "code",
   "execution_count": 8,
   "metadata": {},
   "outputs": [
    {
     "name": "stdout",
     "output_type": "stream",
     "text": [
      "149710198047\n"
     ]
    }
   ],
   "source": [
    "class Person:\n",
    "  name = \"John\"\n",
    "  age = 36\n",
    "  country = \"Norway\"\n",
    "\n",
    "x = hash(Person)\n",
    "print(x)"
   ]
  },
  {
   "cell_type": "markdown",
   "metadata": {},
   "source": [
    "### help([object]) =  내장된 도움시스템을 보여주는 함수\n",
    "\n",
    "*object = 설명이 필요한 객체"
   ]
  },
  {
   "cell_type": "code",
   "execution_count": 9,
   "metadata": {},
   "outputs": [
    {
     "name": "stdout",
     "output_type": "stream",
     "text": [
      "Help on list object:\n",
      "\n",
      "class list(object)\n",
      " |  list(iterable=(), /)\n",
      " |  \n",
      " |  Built-in mutable sequence.\n",
      " |  \n",
      " |  If no argument is given, the constructor creates a new empty list.\n",
      " |  The argument must be an iterable if specified.\n",
      " |  \n",
      " |  Methods defined here:\n",
      " |  \n",
      " |  __add__(self, value, /)\n",
      " |      Return self+value.\n",
      " |  \n",
      " |  __contains__(self, key, /)\n",
      " |      Return key in self.\n",
      " |  \n",
      " |  __delitem__(self, key, /)\n",
      " |      Delete self[key].\n",
      " |  \n",
      " |  __eq__(self, value, /)\n",
      " |      Return self==value.\n",
      " |  \n",
      " |  __ge__(self, value, /)\n",
      " |      Return self>=value.\n",
      " |  \n",
      " |  __getattribute__(self, name, /)\n",
      " |      Return getattr(self, name).\n",
      " |  \n",
      " |  __getitem__(...)\n",
      " |      x.__getitem__(y) <==> x[y]\n",
      " |  \n",
      " |  __gt__(self, value, /)\n",
      " |      Return self>value.\n",
      " |  \n",
      " |  __iadd__(self, value, /)\n",
      " |      Implement self+=value.\n",
      " |  \n",
      " |  __imul__(self, value, /)\n",
      " |      Implement self*=value.\n",
      " |  \n",
      " |  __init__(self, /, *args, **kwargs)\n",
      " |      Initialize self.  See help(type(self)) for accurate signature.\n",
      " |  \n",
      " |  __iter__(self, /)\n",
      " |      Implement iter(self).\n",
      " |  \n",
      " |  __le__(self, value, /)\n",
      " |      Return self<=value.\n",
      " |  \n",
      " |  __len__(self, /)\n",
      " |      Return len(self).\n",
      " |  \n",
      " |  __lt__(self, value, /)\n",
      " |      Return self<value.\n",
      " |  \n",
      " |  __mul__(self, value, /)\n",
      " |      Return self*value.\n",
      " |  \n",
      " |  __ne__(self, value, /)\n",
      " |      Return self!=value.\n",
      " |  \n",
      " |  __repr__(self, /)\n",
      " |      Return repr(self).\n",
      " |  \n",
      " |  __reversed__(self, /)\n",
      " |      Return a reverse iterator over the list.\n",
      " |  \n",
      " |  __rmul__(self, value, /)\n",
      " |      Return value*self.\n",
      " |  \n",
      " |  __setitem__(self, key, value, /)\n",
      " |      Set self[key] to value.\n",
      " |  \n",
      " |  __sizeof__(self, /)\n",
      " |      Return the size of the list in memory, in bytes.\n",
      " |  \n",
      " |  append(self, object, /)\n",
      " |      Append object to the end of the list.\n",
      " |  \n",
      " |  clear(self, /)\n",
      " |      Remove all items from list.\n",
      " |  \n",
      " |  copy(self, /)\n",
      " |      Return a shallow copy of the list.\n",
      " |  \n",
      " |  count(self, value, /)\n",
      " |      Return number of occurrences of value.\n",
      " |  \n",
      " |  extend(self, iterable, /)\n",
      " |      Extend list by appending elements from the iterable.\n",
      " |  \n",
      " |  index(self, value, start=0, stop=9223372036854775807, /)\n",
      " |      Return first index of value.\n",
      " |      \n",
      " |      Raises ValueError if the value is not present.\n",
      " |  \n",
      " |  insert(self, index, object, /)\n",
      " |      Insert object before index.\n",
      " |  \n",
      " |  pop(self, index=-1, /)\n",
      " |      Remove and return item at index (default last).\n",
      " |      \n",
      " |      Raises IndexError if list is empty or index is out of range.\n",
      " |  \n",
      " |  remove(self, value, /)\n",
      " |      Remove first occurrence of value.\n",
      " |      \n",
      " |      Raises ValueError if the value is not present.\n",
      " |  \n",
      " |  reverse(self, /)\n",
      " |      Reverse *IN PLACE*.\n",
      " |  \n",
      " |  sort(self, /, *, key=None, reverse=False)\n",
      " |      Sort the list in ascending order and return None.\n",
      " |      \n",
      " |      The sort is in-place (i.e. the list itself is modified) and stable (i.e. the\n",
      " |      order of two equal elements is maintained).\n",
      " |      \n",
      " |      If a key function is given, apply it once to each list item and sort them,\n",
      " |      ascending or descending, according to their function values.\n",
      " |      \n",
      " |      The reverse flag can be set to sort in descending order.\n",
      " |  \n",
      " |  ----------------------------------------------------------------------\n",
      " |  Static methods defined here:\n",
      " |  \n",
      " |  __new__(*args, **kwargs) from builtins.type\n",
      " |      Create and return a new object.  See help(type) for accurate signature.\n",
      " |  \n",
      " |  ----------------------------------------------------------------------\n",
      " |  Data and other attributes defined here:\n",
      " |  \n",
      " |  __hash__ = None\n",
      "\n",
      "None\n"
     ]
    }
   ],
   "source": [
    "class Person:\n",
    "  name = \"John\"\n",
    "  age = 36\n",
    "  country = \"Norway\"\n",
    "\n",
    "x = help([Person])\n",
    "print(x)"
   ]
  },
  {
   "cell_type": "markdown",
   "metadata": {},
   "source": [
    "### hex(number) = 인자의 hex값(16진수)을 반환하는 함수\n",
    "\n",
    "*number = 정수"
   ]
  },
  {
   "cell_type": "code",
   "execution_count": 11,
   "metadata": {},
   "outputs": [
    {
     "name": "stdout",
     "output_type": "stream",
     "text": [
      "0xff\n"
     ]
    }
   ],
   "source": [
    "x = hex(255)\n",
    "print(x)"
   ]
  },
  {
   "cell_type": "markdown",
   "metadata": {},
   "source": [
    " ### id(object) = 특정 객체의 유일한 아이디값을 반환하는 함수\n",
    " \n",
    " *object = \tAny object, String, Number, List, Class etc.(객체, 문자열, 숫자, 리스트, 클래스)"
   ]
  },
  {
   "cell_type": "code",
   "execution_count": 12,
   "metadata": {},
   "outputs": [
    {
     "name": "stdout",
     "output_type": "stream",
     "text": [
      "2395389785024\n"
     ]
    }
   ],
   "source": [
    "x = ('apple', 'banana', 'cherry')\n",
    "y = id(x)\n",
    "print(y)"
   ]
  },
  {
   "cell_type": "markdown",
   "metadata": {},
   "source": [
    "### input(prompt) = 사용자에게 입력값을 요구하는 함수\n",
    "\n",
    "*prompt = A String, representing a default message before the input.(문자열 = 입력전에 표현하고자 하는 메세지)"
   ]
  },
  {
   "cell_type": "code",
   "execution_count": 1,
   "metadata": {},
   "outputs": [
    {
     "name": "stdout",
     "output_type": "stream",
     "text": [
      "Enter your name:\n",
      "babo\n",
      "Hello, babo\n"
     ]
    }
   ],
   "source": [
    "print('Enter your name:')\n",
    "x = input()\n",
    "print('Hello, ' + x)"
   ]
  },
  {
   "cell_type": "markdown",
   "metadata": {},
   "source": [
    "### int(value, base) = 정수형으로 변화시켜주는 함수\n",
    "\n",
    "*value = A number or a string that can be converted into an integer number(숫자 또는 문자열 정수로 변환할)\n",
    "\n",
    "*base = A number representing the number format. Default value: 10(진수표현 , 기본값은 10진수)"
   ]
  },
  {
   "cell_type": "code",
   "execution_count": 15,
   "metadata": {},
   "outputs": [
    {
     "name": "stdout",
     "output_type": "stream",
     "text": [
      "3\n"
     ]
    }
   ],
   "source": [
    "x = int(3.5)\n",
    "print(x)"
   ]
  },
  {
   "cell_type": "markdown",
   "metadata": {},
   "source": [
    "### isinstance(object, type) = 특정 객체가 특정 타입이면 True반환, 아니면 False 반환하는 함수\n",
    "\n",
    "*object = Required. An object. (객체)\n",
    "\n",
    "*type = A type or a class, or a tuple of types and/or classes (자료형 또는 클래스)"
   ]
  },
  {
   "cell_type": "code",
   "execution_count": 16,
   "metadata": {},
   "outputs": [
    {
     "name": "stdout",
     "output_type": "stream",
     "text": [
      "True\n"
     ]
    }
   ],
   "source": [
    "x = isinstance(5, int)\n",
    "print(x)"
   ]
  },
  {
   "cell_type": "markdown",
   "metadata": {},
   "source": [
    "### issubclass(object, subclass) = 특정 객체가 특정 객체의 서브 클래스이면 True 반환, 아니면 False 반환\n",
    "\n",
    "*object = Required. An object. (객체)\n",
    "\n",
    "*subclass = A class object, or a tuple of class objects (클래스 객체, 또는 클래스 객테의 튜플)"
   ]
  },
  {
   "cell_type": "code",
   "execution_count": 17,
   "metadata": {},
   "outputs": [
    {
     "name": "stdout",
     "output_type": "stream",
     "text": [
      "True\n"
     ]
    }
   ],
   "source": [
    "class myAge:\n",
    "  age = 36\n",
    "\n",
    "class myObj(myAge):\n",
    "  name = \"John\"\n",
    "  age = myAge\n",
    "\n",
    "x = issubclass(myObj, myAge)\n",
    "print(x)"
   ]
  },
  {
   "cell_type": "markdown",
   "metadata": {},
   "source": [
    "### iter(object, sentinel) = 반복기 객체를 반환하는 함수\n",
    "\n",
    "*object = Required. An iterable object (반복가능한 객체)\n",
    "\n",
    "*sentinel = Optional. If the object is a callable object the iteration will stop when the returned value is the same as the sentinel (만약 객체가 호출 가능한 객체이면 반복기는 멈출 것이다. 그리고 sentinel과 같은 값을 반환할 것이다.)"
   ]
  },
  {
   "cell_type": "code",
   "execution_count": 18,
   "metadata": {},
   "outputs": [
    {
     "name": "stdout",
     "output_type": "stream",
     "text": [
      "apple\n",
      "banana\n",
      "cherry\n"
     ]
    }
   ],
   "source": [
    "x = iter([\"apple\", \"banana\", \"cherry\"])\n",
    "print(next(x))\n",
    "print(next(x))\n",
    "print(next(x))"
   ]
  },
  {
   "cell_type": "markdown",
   "metadata": {},
   "source": [
    "### len(object) = 객체의 길이를 반환하는 함수\n",
    "\n",
    "*object = Required. An object. Must be a sequence or a collection (객체 반드시 시퀀스나 컬렉션이여야한다.)"
   ]
  },
  {
   "cell_type": "code",
   "execution_count": 19,
   "metadata": {},
   "outputs": [
    {
     "name": "stdout",
     "output_type": "stream",
     "text": [
      "3\n"
     ]
    }
   ],
   "source": [
    "mylist = [\"apple\", \"banana\", \"cherry\"]\n",
    "x = len(mylist)\n",
    "print(x)"
   ]
  },
  {
   "cell_type": "markdown",
   "metadata": {},
   "source": [
    "### list(iterable) = 리스트를 만들어주는 함수\n",
    "\n",
    "*iterable = Required. A sequence, collection or an iterator object (객체 반드시 시퀀스나 컬렉션이여야한다.)"
   ]
  },
  {
   "cell_type": "code",
   "execution_count": 20,
   "metadata": {},
   "outputs": [
    {
     "name": "stdout",
     "output_type": "stream",
     "text": [
      "<class 'list'>\n"
     ]
    }
   ],
   "source": [
    "x = list(('apple', 'banana', 'cherry'))\n",
    "print(type(x))"
   ]
  },
  {
   "cell_type": "markdown",
   "metadata": {},
   "source": [
    "### locals() = 딕션너리에 지역 상징 테이블(객체 이름)을 반환하는 함수"
   ]
  },
  {
   "cell_type": "code",
   "execution_count": 21,
   "metadata": {},
   "outputs": [
    {
     "name": "stdout",
     "output_type": "stream",
     "text": [
      "{'__name__': '__main__', '__doc__': 'Automatically created module for IPython interactive environment', '__package__': None, '__loader__': None, '__spec__': None, '__builtin__': <module 'builtins' (built-in)>, '__builtins__': <module 'builtins' (built-in)>, '_ih': ['', \"mylist = ['apple', 'banana', 'cherry']\\nx = frozenset(mylist)\\nprint(x)\", \"mylist = ['apple', 'banana', 'cherry']\\nx = frozenset(mylist)\", \"mylist = ['apple', 'banana', 'cherry']\\nx = frozenset(mylist)\\nprint(x)\", 'class Person:\\n  name = \"John\"\\n  age = 36\\n  country = \"Norway\"\\n\\nx = getattr(Person, \\'age\\')\\nprint(x)', 'x = globals()\\nprint(x)', 'class Person:\\n  name = \"John\"\\n  age = 36\\n  country = \"Norway\"\\n\\nx = hasattr(Person, \\'age\\')\\nprint(x)', 'class Person:\\n  name = \"John\"\\n  age = 36\\n  country = \"Norway\"\\n\\nx = hasㅗ(Person)\\nprint(x)', 'class Person:\\n  name = \"John\"\\n  age = 36\\n  country = \"Norway\"\\n\\nx = hash(Person)\\nprint(x)', 'class Person:\\n  name = \"John\"\\n  age = 36\\n  country = \"Norway\"\\n\\nx = help([Person])\\nprint(x)', 'x = hex(255)\\nprint(x)', 'x = hex(255)\\nprint(x)', \"x = ('apple', 'banana', 'cherry')\\ny = id(x)\\nprint(y)\", \"print('Enter your name:')\\nx = input()\\nprint('Hello, ' + x)\", \"print('Enter your name:')\\nx = input()\\nprint('Hello, ' + x)\", 'x = int(3.5)\\nprint(x)', 'x = isinstance(5, int)\\nprint(x)', 'class myAge:\\n  age = 36\\n\\nclass myObj(myAge):\\n  name = \"John\"\\n  age = myAge\\n\\nx = issubclass(myObj, myAge)\\nprint(x)', 'x = iter([\"apple\", \"banana\", \"cherry\"])\\nprint(next(x))\\nprint(next(x))\\nprint(next(x))', 'mylist = [\"apple\", \"banana\", \"cherry\"]\\nx = len(mylist)\\nprint(x)', \"x = list(('apple', 'banana', 'cherry'))\\nprint(type(x))\", 'x = locals()\\nprint(x)'], '_oh': {}, '_dh': ['C:\\\\Users\\\\sungh\\\\Desktop\\\\portpolio\\\\batem'], 'In': ['', \"mylist = ['apple', 'banana', 'cherry']\\nx = frozenset(mylist)\\nprint(x)\", \"mylist = ['apple', 'banana', 'cherry']\\nx = frozenset(mylist)\", \"mylist = ['apple', 'banana', 'cherry']\\nx = frozenset(mylist)\\nprint(x)\", 'class Person:\\n  name = \"John\"\\n  age = 36\\n  country = \"Norway\"\\n\\nx = getattr(Person, \\'age\\')\\nprint(x)', 'x = globals()\\nprint(x)', 'class Person:\\n  name = \"John\"\\n  age = 36\\n  country = \"Norway\"\\n\\nx = hasattr(Person, \\'age\\')\\nprint(x)', 'class Person:\\n  name = \"John\"\\n  age = 36\\n  country = \"Norway\"\\n\\nx = hasㅗ(Person)\\nprint(x)', 'class Person:\\n  name = \"John\"\\n  age = 36\\n  country = \"Norway\"\\n\\nx = hash(Person)\\nprint(x)', 'class Person:\\n  name = \"John\"\\n  age = 36\\n  country = \"Norway\"\\n\\nx = help([Person])\\nprint(x)', 'x = hex(255)\\nprint(x)', 'x = hex(255)\\nprint(x)', \"x = ('apple', 'banana', 'cherry')\\ny = id(x)\\nprint(y)\", \"print('Enter your name:')\\nx = input()\\nprint('Hello, ' + x)\", \"print('Enter your name:')\\nx = input()\\nprint('Hello, ' + x)\", 'x = int(3.5)\\nprint(x)', 'x = isinstance(5, int)\\nprint(x)', 'class myAge:\\n  age = 36\\n\\nclass myObj(myAge):\\n  name = \"John\"\\n  age = myAge\\n\\nx = issubclass(myObj, myAge)\\nprint(x)', 'x = iter([\"apple\", \"banana\", \"cherry\"])\\nprint(next(x))\\nprint(next(x))\\nprint(next(x))', 'mylist = [\"apple\", \"banana\", \"cherry\"]\\nx = len(mylist)\\nprint(x)', \"x = list(('apple', 'banana', 'cherry'))\\nprint(type(x))\", 'x = locals()\\nprint(x)'], 'Out': {}, 'get_ipython': <bound method InteractiveShell.get_ipython of <ipykernel.zmqshell.ZMQInteractiveShell object at 0x0000022DB8531CA0>>, 'exit': <IPython.core.autocall.ZMQExitAutocall object at 0x0000022DB85C2610>, 'quit': <IPython.core.autocall.ZMQExitAutocall object at 0x0000022DB85C2610>, '_': '', '__': '', '___': '', '_i': \"x = list(('apple', 'banana', 'cherry'))\\nprint(type(x))\", '_ii': 'mylist = [\"apple\", \"banana\", \"cherry\"]\\nx = len(mylist)\\nprint(x)', '_iii': 'x = iter([\"apple\", \"banana\", \"cherry\"])\\nprint(next(x))\\nprint(next(x))\\nprint(next(x))', '_i1': \"mylist = ['apple', 'banana', 'cherry']\\nx = frozenset(mylist)\\nprint(x)\", 'mylist': ['apple', 'banana', 'cherry'], 'x': {...}, '_i2': \"mylist = ['apple', 'banana', 'cherry']\\nx = frozenset(mylist)\", '_i3': \"mylist = ['apple', 'banana', 'cherry']\\nx = frozenset(mylist)\\nprint(x)\", '_i4': 'class Person:\\n  name = \"John\"\\n  age = 36\\n  country = \"Norway\"\\n\\nx = getattr(Person, \\'age\\')\\nprint(x)', 'Person': <class '__main__.Person'>, '_i5': 'x = globals()\\nprint(x)', '_i6': 'class Person:\\n  name = \"John\"\\n  age = 36\\n  country = \"Norway\"\\n\\nx = hasattr(Person, \\'age\\')\\nprint(x)', '_i7': 'class Person:\\n  name = \"John\"\\n  age = 36\\n  country = \"Norway\"\\n\\nx = hasㅗ(Person)\\nprint(x)', '_i8': 'class Person:\\n  name = \"John\"\\n  age = 36\\n  country = \"Norway\"\\n\\nx = hash(Person)\\nprint(x)', '_i9': 'class Person:\\n  name = \"John\"\\n  age = 36\\n  country = \"Norway\"\\n\\nx = help([Person])\\nprint(x)', '_i10': 'x = hex(255)\\nprint(x)', '_i11': 'x = hex(255)\\nprint(x)', '_i12': \"x = ('apple', 'banana', 'cherry')\\ny = id(x)\\nprint(y)\", 'y': 2395389785024, '_i13': \"print('Enter your name:')\\nx = input()\\nprint('Hello, ' + x)\", '_i14': \"print('Enter your name:')\\nx = input()\\nprint('Hello, ' + x)\", '_i15': 'x = int(3.5)\\nprint(x)', '_i16': 'x = isinstance(5, int)\\nprint(x)', '_i17': 'class myAge:\\n  age = 36\\n\\nclass myObj(myAge):\\n  name = \"John\"\\n  age = myAge\\n\\nx = issubclass(myObj, myAge)\\nprint(x)', 'myAge': <class '__main__.myAge'>, 'myObj': <class '__main__.myObj'>, '_i18': 'x = iter([\"apple\", \"banana\", \"cherry\"])\\nprint(next(x))\\nprint(next(x))\\nprint(next(x))', '_i19': 'mylist = [\"apple\", \"banana\", \"cherry\"]\\nx = len(mylist)\\nprint(x)', '_i20': \"x = list(('apple', 'banana', 'cherry'))\\nprint(type(x))\", '_i21': 'x = locals()\\nprint(x)'}\n"
     ]
    }
   ],
   "source": [
    "x = locals()\n",
    "print(x)"
   ]
  },
  {
   "cell_type": "markdown",
   "metadata": {},
   "source": [
    "### map(function, iterables) = 특정 함수를 각 lterables(한 번에 하나의 멤버를 반환하는 객체)요소에 실행하는 함수\n",
    "\n",
    "*function = Required. The function to execute for each item (각 요소에 실행할 함수)\n",
    "\n",
    "*iterable = Required. A sequence, collection or an iterator object. You can send as many iterables as you like, just make sure the function has one parameter for each iterable. (시퀀스 또는 컬레션 또는 반복기 객체, 원하는 수 만큼 넣을 수 있고 각 요소에 함수를 적용한다.)"
   ]
  },
  {
   "cell_type": "code",
   "execution_count": 24,
   "metadata": {},
   "outputs": [
    {
     "name": "stdout",
     "output_type": "stream",
     "text": [
      "[5, 6, 6]\n"
     ]
    }
   ],
   "source": [
    "def myfunc(n):\n",
    "  return len(n)\n",
    "\n",
    "x = map(myfunc, ('apple', 'banana', 'cherry'))\n",
    "print(list(x))"
   ]
  },
  {
   "cell_type": "markdown",
   "metadata": {},
   "source": [
    "### max(n1, n2 ~~ or iterable) = 최대값을 반환하는 함수 \n",
    "\n",
    "*n1,n2~~~ = 숫자들\n",
    "\n",
    "*iterable = 한 번에 하나의 멤버를 반환하는 객체"
   ]
  },
  {
   "cell_type": "code",
   "execution_count": 25,
   "metadata": {},
   "outputs": [
    {
     "name": "stdout",
     "output_type": "stream",
     "text": [
      "10\n"
     ]
    }
   ],
   "source": [
    "x = max(5, 10)\n",
    "print(x)"
   ]
  },
  {
   "cell_type": "markdown",
   "metadata": {},
   "source": [
    "### memoryview(obj) = 특정 객체에 있는 메모리 뷰 객체를 반환하는 함수\n",
    "\n",
    "*obj = A Bytes object or a Bytearray object.(바이트 객체 또는 바이트배열 객체)"
   ]
  },
  {
   "cell_type": "code",
   "execution_count": 27,
   "metadata": {},
   "outputs": [
    {
     "name": "stdout",
     "output_type": "stream",
     "text": [
      "<memory at 0x0000022DB86B6F40>\n",
      "72\n",
      "101\n"
     ]
    }
   ],
   "source": [
    "x = memoryview(b\"Hello\")\n",
    "\n",
    "print(x)\n",
    "\n",
    "#첫 문자의 유니코드를 반환한다.\n",
    "print(x[0])\n",
    "\n",
    "#두 번째 문자의 유니코드를 반환한다.\n",
    "print(x[1])"
   ]
  },
  {
   "cell_type": "markdown",
   "metadata": {},
   "source": [
    "### min(n1, n2 ~~ or iterable) = 최소값을 반환하는 함수 \n",
    "\n",
    "*n1,n2~~~ = 숫자들\n",
    "\n",
    "*iterable = 한 번에 하나의 멤버를 반환하는 객체"
   ]
  },
  {
   "cell_type": "code",
   "execution_count": 28,
   "metadata": {},
   "outputs": [
    {
     "name": "stdout",
     "output_type": "stream",
     "text": [
      "5\n"
     ]
    }
   ],
   "source": [
    "x = min(5, 10)\n",
    "print(x)"
   ]
  },
  {
   "cell_type": "markdown",
   "metadata": {},
   "source": [
    "### next(iterable, default) = lterable(한 번에 하나의 멤버를 반환하는 객체)에 다음 요소를 반환하는 함수\n",
    "\n",
    "*iterable = Required. An iterable object. (한 번에 하나의 멤버를 반환하는 객체)\n",
    "\n",
    "*default = Optional. An default value to return if the iterable has reached to its end. (요소의 끝이면 기본값을 반환함)"
   ]
  },
  {
   "cell_type": "code",
   "execution_count": 33,
   "metadata": {},
   "outputs": [
    {
     "name": "stdout",
     "output_type": "stream",
     "text": [
      "apple\n",
      "banana\n",
      "cherry\n"
     ]
    }
   ],
   "source": [
    "mylist = iter([\"apple\", \"banana\", \"cherry\"])\n",
    "x = next(mylist)\n",
    "print(x)\n",
    "x = next(mylist)\n",
    "print(x)\n",
    "x = next(mylist)\n",
    "print(x)"
   ]
  },
  {
   "cell_type": "markdown",
   "metadata": {},
   "source": [
    "### object() = 객체를 만들어 주는 함수"
   ]
  },
  {
   "cell_type": "code",
   "execution_count": 35,
   "metadata": {},
   "outputs": [
    {
     "name": "stdout",
     "output_type": "stream",
     "text": [
      "<class 'object'>\n"
     ]
    }
   ],
   "source": [
    "x = object()\n",
    "print(type(x))"
   ]
  },
  {
   "cell_type": "markdown",
   "metadata": {},
   "source": [
    "### oct(int) = 8진수로 만들어주는 함수\n",
    "\n",
    "*int = 정수"
   ]
  },
  {
   "cell_type": "code",
   "execution_count": 36,
   "metadata": {},
   "outputs": [
    {
     "name": "stdout",
     "output_type": "stream",
     "text": [
      "0o14\n"
     ]
    }
   ],
   "source": [
    "x = oct(12)\n",
    "print(x)"
   ]
  },
  {
   "cell_type": "markdown",
   "metadata": {},
   "source": [
    "### open(file, mode) = 파일을 여는 함수, 파일 객체를 반환한다.\n",
    "\n",
    "*file = The path and name of the file (파일의 경로와 이름)\n",
    "\n",
    "\n",
    "*mode = A string, define which mode you want to open the file in: (문자열; 파일을 여는 방식)\n",
    "\n",
    "    \"r\" - Read - Default value. Opens a file for reading, error if the file does not exist (읽기)\n",
    "    \"a\" - Append - Opens a file for appending, creates the file if it does not exist (덧붙이기)\n",
    "    \"w\" - Write - Opens a file for writing, creates the file if it does not exist(쓰기)\n",
    "    \"x\" - Create - Creates the specified file, returns an error if the file exist(생성)\n",
    "\n",
    "In addition you can specify if the file should be handled as binary or text mode (여기에 추가로 파일의 데이터 타입을 특정해야한다.)\n",
    "\n",
    "    \"t\" - Text - Default value. Text mode (텍스트 타입)\n",
    "    \"b\" - Binary - Binary mode (e.g. images) (바이너리 타입)"
   ]
  },
  {
   "cell_type": "code",
   "execution_count": 39,
   "metadata": {},
   "outputs": [],
   "source": [
    "# f = open(\"demofile.txt\", \"r\")\n",
    "# print(f.read())"
   ]
  },
  {
   "cell_type": "markdown",
   "metadata": {},
   "source": [
    "### ord(character) = 문자의 숫자 표현을 반환하는 함수\n",
    "\n",
    "*character = 문자 또는 문자열"
   ]
  },
  {
   "cell_type": "code",
   "execution_count": 40,
   "metadata": {},
   "outputs": [
    {
     "name": "stdout",
     "output_type": "stream",
     "text": [
      "104\n"
     ]
    }
   ],
   "source": [
    "x = ord(\"h\")\n",
    "print(x)"
   ]
  },
  {
   "cell_type": "markdown",
   "metadata": {},
   "source": [
    "### pow(x, y) = x의 y제곱을 반환하는 함수\n",
    "\n",
    "*x = A number, the ba|se(숫자, 진수)\n",
    "\n",
    "*y = A number, the exponent(숫자, 제곱할 수(지수))"
   ]
  },
  {
   "cell_type": "code",
   "execution_count": 41,
   "metadata": {},
   "outputs": [
    {
     "name": "stdout",
     "output_type": "stream",
     "text": [
      "64\n"
     ]
    }
   ],
   "source": [
    "x = pow(4, 3)\n",
    "print(x)"
   ]
  },
  {
   "cell_type": "markdown",
   "metadata": {},
   "source": [
    "### print(object(s), sep=separator, end=end, file=file, flush=flush) = 인자를 출력하는 함수\n",
    "\n",
    "*object(s) = Any object, and as many as you like. Will be converted to string before printed (아무 객체, 문자열로 변환후 출력)\n",
    "\n",
    "*sep='separator' = Optional. Specify how to separate the objects, if there is more than one. Default is ' '(어떻게 나눌지 특정한다.)\n",
    "\n",
    "*end='end' = Optional. Specify what to print at the end. Default is '\\n' (line feed) (끝을 어떻게 할지 특정한다)\n",
    "\n",
    "*file = Optional. An object with a write method. Default is sys.stdout (쓰기 메소드의 객체)\n",
    "\n",
    "*flush = Optional. A Boolean, specifying if the output is flushed (True) or buffered (False). Default is False (버퍼 관련 블리언값)"
   ]
  },
  {
   "cell_type": "code",
   "execution_count": 42,
   "metadata": {},
   "outputs": [
    {
     "name": "stdout",
     "output_type": "stream",
     "text": [
      "Hello World\n"
     ]
    }
   ],
   "source": [
    " print(\"Hello World\")"
   ]
  },
  {
   "cell_type": "markdown",
   "metadata": {},
   "source": [
    "### property(fget=None, fset=None, fdel=None, doc=None) = 프로퍼티와 속성을 반환하는 함수"
   ]
  },
  {
   "cell_type": "code",
   "execution_count": 50,
   "metadata": {},
   "outputs": [
    {
     "name": "stdout",
     "output_type": "stream",
     "text": [
      "<property object at 0x0000022DB86EEA40>\n"
     ]
    }
   ],
   "source": [
    "class C:\n",
    "    def __init__(self):\n",
    "        self._x = None\n",
    "\n",
    "    def getx(self):\n",
    "        return self._x\n",
    "\n",
    "    def setx(self, value):\n",
    "        self._x = value\n",
    "\n",
    "    def delx(self):\n",
    "        del self._x\n",
    "\n",
    "    x = property(getx, setx, delx, \"I'm the 'x' property.\")\n",
    "    print(x)"
   ]
  },
  {
   "cell_type": "markdown",
   "metadata": {},
   "source": [
    "### range(start, stop, setp) = 숫자의 연속을 반환하는 함수\n",
    "\n",
    "*start = Optional. An integer number specifying at which position to start. Default is 0 (시작 숫자, 기본값 0)\n",
    "\n",
    "*stop = Required. An integer number specifying at which position to stop (not included). (멈출 숫자)\n",
    "\n",
    "*step = Optional. An integer number specifying the incrementation. Default is 1 (증감 숫자, 기본값 1)\n"
   ]
  },
  {
   "cell_type": "code",
   "execution_count": 52,
   "metadata": {},
   "outputs": [
    {
     "name": "stdout",
     "output_type": "stream",
     "text": [
      "range(0, 6)\n",
      "[0, 1, 2, 3, 4, 5]\n"
     ]
    }
   ],
   "source": [
    "x = range(6)\n",
    "print(x)\n",
    "print(list(x))"
   ]
  },
  {
   "cell_type": "markdown",
   "metadata": {},
   "source": [
    "### repr(object) = 객체의 읽을 수 있는 버전을 반환하는 함수\n",
    "\n",
    "*object = 객체"
   ]
  },
  {
   "cell_type": "code",
   "execution_count": 53,
   "metadata": {},
   "outputs": [
    {
     "name": "stdout",
     "output_type": "stream",
     "text": [
      "[1, 2, 3, 4, 5]\n"
     ]
    }
   ],
   "source": [
    "a = [1,2,3,4,5]\n",
    "x = repr(a)\n",
    "print(x)"
   ]
  },
  {
   "cell_type": "markdown",
   "metadata": {},
   "source": [
    "### reversed(sequence) = 역순으로된 객체를 반환하는 함수\n",
    "\n",
    "*sequence = Required. Any iterable object (반복가능한 아무 객체)"
   ]
  },
  {
   "cell_type": "code",
   "execution_count": 54,
   "metadata": {},
   "outputs": [
    {
     "name": "stdout",
     "output_type": "stream",
     "text": [
      "d\n",
      "c\n",
      "b\n",
      "a\n"
     ]
    }
   ],
   "source": [
    "alph = [\"a\", \"b\", \"c\", \"d\"]\n",
    "ralph = reversed(alph)\n",
    "for x in ralph:\n",
    "  print(x)"
   ]
  },
  {
   "cell_type": "markdown",
   "metadata": {},
   "source": [
    "### round(number, digits) = digits(숫자)에 반올림된 수를 반환하는 함수\n",
    "\n",
    "*number = Required. The number to be rounded(반올림할 수)\n",
    "\n",
    "*digits = Optional. The number of decimals to use when rounding the number. Default is 0 (반올림할 자릿 수, 기본값 0)"
   ]
  },
  {
   "cell_type": "code",
   "execution_count": 55,
   "metadata": {},
   "outputs": [
    {
     "name": "stdout",
     "output_type": "stream",
     "text": [
      "5.77\n"
     ]
    }
   ],
   "source": [
    "x = round(5.76543, 2)\n",
    "print(x)"
   ]
  },
  {
   "cell_type": "markdown",
   "metadata": {},
   "source": [
    "### set(iterable) = 세트 객체를 만들어 주는 함수\n",
    "\n",
    "*iterable = Required. A sequence, collection or an iterator object(시퀀스나 컬렉션 또는 반복 객체)"
   ]
  },
  {
   "cell_type": "code",
   "execution_count": 56,
   "metadata": {},
   "outputs": [
    {
     "name": "stdout",
     "output_type": "stream",
     "text": [
      "{'apple', 'cherry', 'banana'}\n",
      "<class 'set'>\n"
     ]
    }
   ],
   "source": [
    "x = set(('apple', 'banana', 'cherry'))\n",
    "print(x)\n",
    "print(type(x))"
   ]
  },
  {
   "cell_type": "markdown",
   "metadata": {},
   "source": [
    "### setattr(object, attribute, value) = 객체의 특정 속성의 값을 바꿔주는 함수\n",
    "\n",
    "*object = Required. An object. (객체)\n",
    "\n",
    "*attribute = Required. The name of the attribute you want to set (값을 바꿀 속성)\n",
    "\n",
    "*value = Required. The value you want to give the specified attribute (바꿀 값)"
   ]
  },
  {
   "cell_type": "code",
   "execution_count": 58,
   "metadata": {},
   "outputs": [
    {
     "name": "stdout",
     "output_type": "stream",
     "text": [
      "40\n"
     ]
    }
   ],
   "source": [
    "class Person:\n",
    "  name = \"John\"\n",
    "  age = 36\n",
    "  country = \"Norway\"\n",
    "\n",
    "setattr(Person, 'age', 40)\n",
    "\n",
    "print(Person.age)"
   ]
  },
  {
   "cell_type": "markdown",
   "metadata": {},
   "source": [
    "### slice(start, end, step) = 객체 슬라이싱을 해주는 함수\n",
    "\n",
    "*start = Optional. An integer number specifying at which position to start the slicing. Default is 0 (시작할 값, 기본값 0)\n",
    "\n",
    "*end = An integer number specifying at which position to end the slicing (끝 값)\n",
    "\n",
    "*step = Optional. An integer number specifying the step of the slicing. Default is 1 (증감할 값, 기본값 1)"
   ]
  },
  {
   "cell_type": "code",
   "execution_count": 59,
   "metadata": {},
   "outputs": [
    {
     "name": "stdout",
     "output_type": "stream",
     "text": [
      "('a', 'b')\n"
     ]
    }
   ],
   "source": [
    "a = (\"a\", \"b\", \"c\", \"d\", \"e\", \"f\", \"g\", \"h\")\n",
    "x = slice(2)\n",
    "print(a[x])"
   ]
  },
  {
   "cell_type": "markdown",
   "metadata": {},
   "source": [
    "### sorted(iterable, key=key, reverse=reverse) = 리스트나 반복 가능한 객체를 정렬해주는 함수\n",
    "\n",
    "*iterable = Required. The sequence to sort, list, dictionary, tuple etc. (반복 가능한 객체)\n",
    "\n",
    "*key = Optional. A Function to execute to decide the order. Default is None (함수가 실행할때 따를 명령)\n",
    "\n",
    "*reverse = Optional. A Boolean. False will sort ascending, True will sort descending. Default is False (블리언 값 False면 오름차순, True면 내림차순, 기본값은 False)"
   ]
  },
  {
   "cell_type": "code",
   "execution_count": 60,
   "metadata": {},
   "outputs": [
    {
     "name": "stdout",
     "output_type": "stream",
     "text": [
      "['a', 'b', 'c', 'd', 'e', 'f', 'g', 'h']\n"
     ]
    }
   ],
   "source": [
    "a = (\"b\", \"g\", \"a\", \"d\", \"f\", \"c\", \"h\", \"e\")\n",
    "x = sorted(a)\n",
    "print(x)"
   ]
  },
  {
   "cell_type": "markdown",
   "metadata": {},
   "source": [
    "### @staticmethod() = 메소드를 스태틱 메소드로 바꿔주는 함수"
   ]
  },
  {
   "cell_type": "code",
   "execution_count": 61,
   "metadata": {},
   "outputs": [],
   "source": [
    "class C:\n",
    "    builtin_open = staticmethod(open)"
   ]
  },
  {
   "cell_type": "markdown",
   "metadata": {},
   "source": [
    "### str(object, encoding=encoding, errors=errors) = 특정 값을 문자열로 바꿔주는 함수\n",
    "\n",
    "*object = Any object. Specifies the object to convert into a string (아무 객체)\n",
    "\n",
    "*encoding = The encoding of the object. Default is UTF-8 (인코딩값, 기본값은 utf-8)\n",
    "\n",
    "*errors = Specifies what to do if the decoding fails (디코딩 실패 시 특정할 에러)"
   ]
  },
  {
   "cell_type": "code",
   "execution_count": 64,
   "metadata": {},
   "outputs": [
    {
     "name": "stdout",
     "output_type": "stream",
     "text": [
      "<class 'str'>\n"
     ]
    }
   ],
   "source": [
    "x = str(3.5)\n",
    "print(type(x))"
   ]
  },
  {
   "cell_type": "markdown",
   "metadata": {},
   "source": [
    "### sum(iterable, start) = 숫자나 요소들의 합을 반환하는 함수\n",
    "\n",
    "*iterable = Required. The sequence to sum (합산할 시퀀스)\n",
    "\n",
    "*start = Optional. A value that is added to the return value (반환될 값에 추가될 값)"
   ]
  },
  {
   "cell_type": "code",
   "execution_count": 65,
   "metadata": {
    "scrolled": true
   },
   "outputs": [
    {
     "name": "stdout",
     "output_type": "stream",
     "text": [
      "15\n"
     ]
    }
   ],
   "source": [
    "a = (1, 2, 3, 4, 5)\n",
    "x = sum(a)\n",
    "print(x)"
   ]
  },
  {
   "cell_type": "markdown",
   "metadata": {},
   "source": [
    "### super() = 부모 또는 형제 클래스의 메소드 및 속성에 대한 접근 권한을 부여하는 함수"
   ]
  },
  {
   "cell_type": "code",
   "execution_count": 66,
   "metadata": {},
   "outputs": [
    {
     "name": "stdout",
     "output_type": "stream",
     "text": [
      "Hello, and welcome!\n"
     ]
    }
   ],
   "source": [
    "class Parent:\n",
    "  def __init__(self, txt):\n",
    "    self.message = txt\n",
    "\n",
    "  def printmessage(self):\n",
    "    print(self.message)\n",
    "\n",
    "class Child(Parent):\n",
    "  def __init__(self, txt):\n",
    "    super().__init__(txt)\n",
    "\n",
    "x = Child(\"Hello, and welcome!\")\n",
    "\n",
    "x.printmessage()"
   ]
  },
  {
   "cell_type": "markdown",
   "metadata": {},
   "source": [
    "### tuple(iterable) = 튜플을 만들어 주는 함수\n",
    "\n",
    "*iterable = Required. A sequence, collection or an iterator object (시퀀스 또는 컬렉션 또는 반복 객체)"
   ]
  },
  {
   "cell_type": "code",
   "execution_count": 67,
   "metadata": {},
   "outputs": [
    {
     "name": "stdout",
     "output_type": "stream",
     "text": [
      "<class 'tuple'>\n"
     ]
    }
   ],
   "source": [
    "x = tuple(('apple', 'banana', 'cherry'))\n",
    "print(type(x))"
   ]
  },
  {
   "cell_type": "markdown",
   "metadata": {},
   "source": [
    "### type(object, bases, dict) = 특정 객체의 타입을 반환하는 함수\n",
    "\n",
    "*object = Required. If only one parameter is specified, the type() function returns the type of this object (타입을 확인할 객체)\n",
    "\n",
    "*bases = Optional. Specifies the base classes (진수 클래스의 특정)\n",
    "\n",
    "*dict = Optional. Specifies the namespace with the definition for the class (클래스 정의에 대한 이름공간을 특정하는 것)"
   ]
  },
  {
   "cell_type": "code",
   "execution_count": 70,
   "metadata": {},
   "outputs": [
    {
     "name": "stdout",
     "output_type": "stream",
     "text": [
      "<class 'tuple'> <class 'str'> <class 'int'>\n"
     ]
    }
   ],
   "source": [
    "a = ('apple', 'banana', 'cherry')\n",
    "b = \"Hello World\"\n",
    "c = 33\n",
    "\n",
    "x = type(a)\n",
    "y = type(b)\n",
    "z = type(c)\n",
    "print(x,y,z)"
   ]
  },
  {
   "cell_type": "markdown",
   "metadata": {},
   "source": [
    "### vars(object) = 객체의 __dic__속성을 반환하는 함수\n",
    "\n",
    "*object = Any object with a __dict__attribute (dict 속성의 객체)"
   ]
  },
  {
   "cell_type": "code",
   "execution_count": 71,
   "metadata": {},
   "outputs": [
    {
     "name": "stdout",
     "output_type": "stream",
     "text": [
      "{'__module__': '__main__', 'name': 'John', 'age': 36, 'country': 'norway', '__dict__': <attribute '__dict__' of 'Person' objects>, '__weakref__': <attribute '__weakref__' of 'Person' objects>, '__doc__': None}\n"
     ]
    }
   ],
   "source": [
    "class Person:\n",
    "  name = \"John\"\n",
    "  age = 36\n",
    "  country = \"norway\"\n",
    "\n",
    "x = vars(Person)\n",
    "print(x)"
   ]
  },
  {
   "cell_type": "markdown",
   "metadata": {},
   "source": [
    "### zip(iterator1, iterator2, iterator3 ...) = zip객체를 반환하는 함수\n",
    "\n",
    "*iterator1, iterator2, iterator3 ... = Iterator objects that will be joined together (같이 묶을 반복 객체들)"
   ]
  },
  {
   "cell_type": "code",
   "execution_count": 74,
   "metadata": {},
   "outputs": [
    {
     "name": "stdout",
     "output_type": "stream",
     "text": [
      "[('John', 'Jenny'), ('Charles', 'Christy'), ('Mike', 'Monica')]\n",
      "<class 'zip'>\n"
     ]
    }
   ],
   "source": [
    "a = (\"John\", \"Charles\", \"Mike\")\n",
    "b = (\"Jenny\", \"Christy\", \"Monica\")\n",
    "\n",
    "x = zip(a, b)\n",
    "print(list(x))\n",
    "print(type(x))"
   ]
  }
 ],
 "metadata": {
  "interpreter": {
   "hash": "2db6046f37c519ffd9c5e7f32118020741b14c498f1d4481669cbac19ad58598"
  },
  "kernelspec": {
   "display_name": "Python 3",
   "language": "python",
   "name": "python3"
  },
  "language_info": {
   "codemirror_mode": {
    "name": "ipython",
    "version": 3
   },
   "file_extension": ".py",
   "mimetype": "text/x-python",
   "name": "python",
   "nbconvert_exporter": "python",
   "pygments_lexer": "ipython3",
   "version": "3.8.8"
  }
 },
 "nbformat": 4,
 "nbformat_minor": 2
}
